{
 "cells": [
  {
   "cell_type": "code",
   "execution_count": 12,
   "id": "1bf8c59a",
   "metadata": {},
   "outputs": [],
   "source": [
    "from glob import glob\n",
    "import os.path\n",
    "import pandas as pd"
   ]
  },
  {
   "cell_type": "code",
   "execution_count": 19,
   "id": "fb9f8176",
   "metadata": {
    "scrolled": true
   },
   "outputs": [
    {
     "name": "stdout",
     "output_type": "stream",
     "text": [
      "['./clean_texts\\\\1.txt', './clean_texts\\\\10.txt', './clean_texts\\\\100.txt', './clean_texts\\\\11.txt', './clean_texts\\\\12.txt', './clean_texts\\\\13.txt', './clean_texts\\\\14.txt', './clean_texts\\\\15.txt', './clean_texts\\\\16.txt', './clean_texts\\\\17.txt', './clean_texts\\\\18.txt', './clean_texts\\\\19.txt', './clean_texts\\\\2.txt', './clean_texts\\\\20.txt', './clean_texts\\\\21.txt', './clean_texts\\\\22.txt', './clean_texts\\\\23.txt', './clean_texts\\\\24.txt', './clean_texts\\\\25.txt', './clean_texts\\\\26.txt', './clean_texts\\\\27.txt', './clean_texts\\\\28.txt', './clean_texts\\\\29.txt', './clean_texts\\\\3.txt', './clean_texts\\\\30.txt', './clean_texts\\\\31.txt', './clean_texts\\\\32.txt', './clean_texts\\\\33.txt', './clean_texts\\\\34.txt', './clean_texts\\\\35.txt', './clean_texts\\\\36.txt', './clean_texts\\\\37.txt', './clean_texts\\\\38.txt', './clean_texts\\\\39.txt', './clean_texts\\\\4.txt', './clean_texts\\\\40.txt', './clean_texts\\\\41.txt', './clean_texts\\\\42.txt', './clean_texts\\\\43.txt', './clean_texts\\\\44.txt', './clean_texts\\\\45.txt', './clean_texts\\\\46.txt', './clean_texts\\\\47.txt', './clean_texts\\\\48.txt', './clean_texts\\\\49.txt', './clean_texts\\\\5.txt', './clean_texts\\\\50.txt', './clean_texts\\\\51.txt', './clean_texts\\\\52.txt', './clean_texts\\\\53.txt', './clean_texts\\\\54.txt', './clean_texts\\\\55.txt', './clean_texts\\\\56.txt', './clean_texts\\\\57.txt', './clean_texts\\\\58.txt', './clean_texts\\\\59.txt', './clean_texts\\\\6.txt', './clean_texts\\\\60.txt', './clean_texts\\\\61.txt', './clean_texts\\\\62.txt', './clean_texts\\\\63.txt', './clean_texts\\\\64.txt', './clean_texts\\\\65.txt', './clean_texts\\\\66.txt', './clean_texts\\\\67.txt', './clean_texts\\\\68.txt', './clean_texts\\\\69.txt', './clean_texts\\\\7.txt', './clean_texts\\\\70.txt', './clean_texts\\\\71.txt', './clean_texts\\\\72.txt', './clean_texts\\\\73.txt', './clean_texts\\\\74.txt', './clean_texts\\\\75.txt', './clean_texts\\\\76.txt', './clean_texts\\\\77.txt', './clean_texts\\\\78.txt', './clean_texts\\\\79.txt', './clean_texts\\\\8.txt', './clean_texts\\\\80.txt', './clean_texts\\\\81.txt', './clean_texts\\\\82.txt', './clean_texts\\\\83.txt', './clean_texts\\\\84.txt', './clean_texts\\\\85.txt', './clean_texts\\\\86.txt', './clean_texts\\\\87.txt', './clean_texts\\\\88.txt', './clean_texts\\\\89.txt', './clean_texts\\\\9.txt', './clean_texts\\\\90.txt', './clean_texts\\\\91.txt', './clean_texts\\\\92.txt', './clean_texts\\\\93.txt', './clean_texts\\\\94.txt', './clean_texts\\\\95.txt', './clean_texts\\\\96.txt', './clean_texts\\\\97.txt', './clean_texts\\\\98.txt', './clean_texts\\\\99.txt']\n"
     ]
    }
   ],
   "source": [
    "texts = []\n",
    "for text in glob(\"./clean_texts/*.txt\"):\n",
    "    texts.append(text)\n",
    "print(texts)"
   ]
  },
  {
   "cell_type": "code",
   "execution_count": 21,
   "id": "09fe099b",
   "metadata": {},
   "outputs": [
    {
     "name": "stdout",
     "output_type": "stream",
     "text": [
      "               title   ideology headquarter audience    region    format  \\\n",
      "id                                                                         \n",
      "1              Ahora  socialist      madrid    adult  national     daily   \n",
      "2              Ahora  socialist      madrid    adult  national     daily   \n",
      "3              Ahora  socialist      madrid    adult  national     daily   \n",
      "4              Ahora  socialist      madrid    adult  national     daily   \n",
      "5              Ahora  socialist      madrid    adult  national     daily   \n",
      "..               ...        ...         ...      ...       ...       ...   \n",
      "96   Vida socialista  socialist      madrid    youth  national  magazine   \n",
      "97   Vida socialista  socialist      madrid    youth  national  magazine   \n",
      "98   Vida socialista  socialist      madrid    youth  national  magazine   \n",
      "99   Vida socialista  socialist      madrid    youth  national  magazine   \n",
      "100  Vida socialista  socialist      madrid    youth  national  magazine   \n",
      "\n",
      "     year  month  day                                               link  \n",
      "id                                                                        \n",
      "1    1931      4    9  https://hemerotecadigital.bne.es/hd/es/viewer?...  \n",
      "2    1932      4   15  https://hemerotecadigital.bne.es/hd/es/viewer?...  \n",
      "3    1932      9   16  https://hemerotecadigital.bne.es/hd/es/viewer?...  \n",
      "4    1935      1    9  https://hemerotecadigital.bne.es/hd/es/viewer?...  \n",
      "5    1935     11   15  https://hemerotecadigital.bne.es/hd/es/viewer?...  \n",
      "..    ...    ...  ...                                                ...  \n",
      "96   1910      2   20  https://hemerotecadigital.bne.es/hd/es/viewer?...  \n",
      "97   1910      7   24  https://hemerotecadigital.bne.es/hd/es/viewer?...  \n",
      "98   1911     12   17  https://hemerotecadigital.bne.es/hd/es/viewer?...  \n",
      "99   1911      4   16  https://hemerotecadigital.bne.es/hd/es/viewer?...  \n",
      "100  1912      7   14  https://hemerotecadigital.bne.es/hd/es/viewer?...  \n",
      "\n",
      "[100 rows x 10 columns]\n"
     ]
    }
   ],
   "source": [
    "editions_list = pd.read_csv('./editions list.csv',\n",
    "                            encoding=\"utf-8\", \n",
    "                            index_col=0\n",
    "                           )\n",
    "print(editions_list)"
   ]
  },
  {
   "cell_type": "code",
   "execution_count": 32,
   "id": "4cf508e4",
   "metadata": {},
   "outputs": [
    {
     "name": "stdout",
     "output_type": "stream",
     "text": [
      "socialist\n",
      "regionalist\n",
      "socialist\n",
      "regionalist\n",
      "regionalist\n",
      "conservative\n",
      "conservative\n",
      "conservative\n",
      "conservative\n",
      "federalist\n",
      "federalist\n",
      "federalist\n",
      "socialist\n",
      "federalist\n",
      "federalist\n",
      "socialist\n",
      "socialist\n",
      "socialist\n",
      "socialist\n",
      "socialist\n",
      "conservative\n",
      "conservative\n",
      "conservative\n",
      "socialist\n",
      "conservative\n",
      "conservative\n",
      "conservative\n",
      "liberal\n",
      "liberal\n",
      "liberal\n",
      "liberal\n",
      "liberal\n",
      "liberal\n",
      "liberal\n",
      "socialist\n",
      "republican\n",
      "republican\n",
      "republican\n",
      "republican\n",
      "republican\n",
      "republican\n",
      "republican\n",
      "republican\n",
      "republican\n",
      "carlist\n",
      "socialist\n",
      "carlist\n",
      "carlist\n",
      "carlist\n",
      "carlist\n",
      "carlist\n",
      "carlist\n",
      "liberal\n",
      "liberal\n",
      "liberal\n",
      "liberal\n",
      "socialist\n",
      "liberal\n",
      "liberal\n",
      "liberal\n",
      "liberal\n",
      "liberal\n",
      "liberal\n",
      "conservative\n",
      "conservative\n",
      "conservative\n",
      "conservative\n",
      "socialist\n",
      "conservative\n",
      "democrat\n",
      "democrat\n",
      "democrat\n",
      "democrat\n",
      "democrat\n",
      "democrat\n",
      "conservative\n",
      "conservative\n",
      "conservative\n",
      "regionalist\n",
      "conservative\n",
      "conservative\n",
      "conservative\n",
      "conservative\n",
      "conservative\n",
      "conservative\n",
      "conservative\n",
      "liberal\n",
      "liberal\n",
      "liberal\n",
      "regionalist\n",
      "anarchist\n",
      "anarchist\n",
      "anarchist\n",
      "anarchist\n",
      "anarchist\n",
      "anarchist\n",
      "socialist\n",
      "socialist\n",
      "socialist\n",
      "socialist\n"
     ]
    }
   ],
   "source": [
    "def create_subcorpus(feature):\n",
    "    for text in texts:\n",
    "        number = int(splitext(basename(text))[0])\n",
    "        print(editions_list.iloc[number-1][feature])\n",
    "        # And now write a file with that in the title\n",
    "        \n",
    "create_subcorpus(\"ideology\")"
   ]
  },
  {
   "cell_type": "code",
   "execution_count": null,
   "id": "2d9e955d",
   "metadata": {},
   "outputs": [],
   "source": []
  }
 ],
 "metadata": {
  "kernelspec": {
   "display_name": "Python 3 (ipykernel)",
   "language": "python",
   "name": "python3"
  },
  "language_info": {
   "codemirror_mode": {
    "name": "ipython",
    "version": 3
   },
   "file_extension": ".py",
   "mimetype": "text/x-python",
   "name": "python",
   "nbconvert_exporter": "python",
   "pygments_lexer": "ipython3",
   "version": "3.9.12"
  }
 },
 "nbformat": 4,
 "nbformat_minor": 5
}
