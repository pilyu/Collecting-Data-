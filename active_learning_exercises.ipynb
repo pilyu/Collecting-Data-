{
 "cells": [
  {
   "cell_type": "markdown",
   "id": "008d212a",
   "metadata": {},
   "source": [
    "## Spanish Newspaper Editions: Active Learning\n",
    "\n",
    "The dataset containing information about Spanish newspapers from 1890 to 1940 not only deserves a contribution to be expanded and continuously updated but also allows tools such as Stylo and Gephi to be used to draw interesting observations. <br>\n",
    "<br> Above in the Tutorial section you may find what we have created so far, now it is your turn. "
   ]
  },
  {
   "cell_type": "markdown",
   "id": "c986c6ed",
   "metadata": {},
   "source": [
    "#### Update the DataFrame\n",
    "\n",
    "Given the breadth of resources there is the possibility to update the newspapers data with more newspapers editions, and possibly adding columns with additional information useful to understand Spanish journalistic culture (i.e. name of the journalists). At the moment, there does not seem to be the possibility of downloading the web page via html, but if they were to change the structure, the process of downloading the various editions could be automated. <br>\n",
    "<br> Download from the __[Digital Newspaper Library](https://hemerotecadigital.bne.es/hd/es/advanced)__ of the National Library of Spain other newspaper editions, clean them up using python and add them to the DataFrame."
   ]
  },
  {
   "cell_type": "code",
   "execution_count": 1,
   "id": "7b360baf",
   "metadata": {},
   "outputs": [],
   "source": [
    "# Your code"
   ]
  },
  {
   "cell_type": "markdown",
   "id": "c3a8249f",
   "metadata": {},
   "source": [
    "#### Come up with interesting research questions\n",
    "\n",
    "Being that this dataset lends itself well to the use of tools such as Stylo and Gephi, one might come in touch with interesting discoveries in the changing of writing styles over time or ideologies. "
   ]
  },
  {
   "cell_type": "code",
   "execution_count": 8,
   "id": "f8f0b1fb",
   "metadata": {},
   "outputs": [],
   "source": [
    "# Your code"
   ]
  }
 ],
 "metadata": {
  "kernelspec": {
   "display_name": "Python 3 (ipykernel)",
   "language": "python",
   "name": "python3"
  },
  "language_info": {
   "codemirror_mode": {
    "name": "ipython",
    "version": 3
   },
   "file_extension": ".py",
   "mimetype": "text/x-python",
   "name": "python",
   "nbconvert_exporter": "python",
   "pygments_lexer": "ipython3",
   "version": "3.9.12"
  }
 },
 "nbformat": 4,
 "nbformat_minor": 5
}
