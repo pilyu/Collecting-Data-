{
 "cells": [
  {
   "cell_type": "code",
   "execution_count": 60,
   "id": "1bf8c59a",
   "metadata": {},
   "outputs": [],
   "source": [
    "from glob import glob"
   ]
  },
  {
   "cell_type": "code",
   "execution_count": 61,
   "id": "1a7ee838",
   "metadata": {},
   "outputs": [],
   "source": [
    "from os.path import splitext"
   ]
  },
  {
   "cell_type": "code",
   "execution_count": 62,
   "id": "da2a97b2",
   "metadata": {},
   "outputs": [],
   "source": [
    "from os.path import basename"
   ]
  },
  {
   "cell_type": "code",
   "execution_count": 6,
   "id": "14d3b47a",
   "metadata": {},
   "outputs": [],
   "source": [
    "#def read_file(filename):\n",
    "    #with open(filename, encoding='utf8') as infile:\n",
    "        #contents = infile.read()\n",
    "    #return contents"
   ]
  },
  {
   "cell_type": "code",
   "execution_count": null,
   "id": "d984bb69",
   "metadata": {},
   "outputs": [],
   "source": [
    "for filepath in glob('/Users/lisaraulli/Desktop/University/clean_texts/*.txt'):\n",
    "    print(filepath)"
   ]
  },
  {
   "cell_type": "code",
   "execution_count": null,
   "id": "fb9f8176",
   "metadata": {
    "scrolled": true
   },
   "outputs": [],
   "source": [
    "for filepath in glob(\"/Users/lisaraulli/Desktop/University/clean_texts/*.txt\"):\n",
    "    print(basename(filepath))"
   ]
  },
  {
   "cell_type": "code",
   "execution_count": null,
   "id": "ca5951e7",
   "metadata": {},
   "outputs": [],
   "source": [
    "for filepath in glob(\"/Users/lisaraulli/Desktop/University/clean_texts/*.txt\"):\n",
    "    print(splitext(basename(filepath))[0])"
   ]
  },
  {
   "cell_type": "code",
   "execution_count": 91,
   "id": "b9ed2257",
   "metadata": {},
   "outputs": [
    {
     "name": "stdout",
     "output_type": "stream",
     "text": [
      "[1, 2, 3, 4, 5, 6, 7, 8, 9, 10, 11, 12, 13, 14, 15, 16, 17, 18, 19, 20, 21, 22, 23, 24, 25, 26, 27, 28, 29, 30, 31, 32, 33, 34, 35, 36, 37, 38, 39, 40, 41, 42, 43, 44, 45, 46, 47, 48, 49, 50, 51, 52, 53, 54, 55, 56, 57, 58, 59, 60, 61, 62, 63, 64, 65, 66, 67, 68, 69, 70, 71, 72, 73, 74, 75, 76, 77, 78, 79, 80, 81, 82, 83, 84, 85, 86, 87, 88, 89, 90, 91, 92, 93, 94, 95, 96, 97, 98, 99, 100]\n"
     ]
    }
   ],
   "source": [
    "filenames = []\n",
    "for filepath in glob(\"/Users/lisaraulli/Desktop/University/clean_texts/*.txt\"):\n",
    "    filenames.append(int(splitext(basename(filepath))[0]))\n",
    "print(sorted(filenames))"
   ]
  },
  {
   "cell_type": "code",
   "execution_count": 56,
   "id": "18f89f3c",
   "metadata": {},
   "outputs": [],
   "source": [
    "import pandas as pd"
   ]
  },
  {
   "cell_type": "code",
   "execution_count": 57,
   "id": "09fe099b",
   "metadata": {},
   "outputs": [],
   "source": [
    "edition_list = pd.read_csv('/Users/lisaraulli/Desktop/University/editions list.csv',\n",
    "                           encoding=\"ISO-8859-1\", index_col=0)"
   ]
  },
  {
   "cell_type": "code",
   "execution_count": 59,
   "id": "f670c617",
   "metadata": {},
   "outputs": [
    {
     "data": {
      "text/plain": [
       "['socialist',\n",
       " 'socialist',\n",
       " 'socialist',\n",
       " 'socialist',\n",
       " 'socialist',\n",
       " 'socialist',\n",
       " 'socialist',\n",
       " 'regionalist',\n",
       " 'regionalist',\n",
       " 'regionalist',\n",
       " 'regionalist',\n",
       " 'regionalist',\n",
       " 'conservative',\n",
       " 'conservative',\n",
       " 'conservative',\n",
       " 'conservative',\n",
       " 'federalist',\n",
       " 'federalist',\n",
       " 'federalist',\n",
       " 'federalist',\n",
       " 'federalist',\n",
       " 'socialist',\n",
       " 'socialist',\n",
       " 'socialist',\n",
       " 'socialist',\n",
       " 'socialist',\n",
       " 'conservative',\n",
       " 'conservative',\n",
       " 'conservative',\n",
       " 'conservative',\n",
       " 'conservative',\n",
       " 'conservative',\n",
       " 'liberal',\n",
       " 'liberal',\n",
       " 'liberal',\n",
       " 'liberal',\n",
       " 'liberal',\n",
       " 'liberal',\n",
       " 'liberal',\n",
       " 'republican',\n",
       " 'republican',\n",
       " 'republican',\n",
       " 'republican',\n",
       " 'republican',\n",
       " 'republican',\n",
       " 'republican',\n",
       " 'republican',\n",
       " 'republican',\n",
       " 'carlist',\n",
       " 'carlist',\n",
       " 'carlist',\n",
       " 'carlist',\n",
       " 'carlist',\n",
       " 'carlist',\n",
       " 'carlist',\n",
       " 'liberal',\n",
       " 'liberal',\n",
       " 'liberal',\n",
       " 'liberal',\n",
       " 'liberal',\n",
       " 'liberal',\n",
       " 'liberal',\n",
       " 'liberal',\n",
       " 'liberal',\n",
       " 'liberal',\n",
       " 'conservative',\n",
       " 'conservative',\n",
       " 'conservative',\n",
       " 'conservative',\n",
       " 'conservative',\n",
       " 'democrat',\n",
       " 'democrat',\n",
       " 'democrat',\n",
       " 'democrat',\n",
       " 'democrat',\n",
       " 'democrat',\n",
       " 'conservative',\n",
       " 'conservative',\n",
       " 'conservative',\n",
       " 'conservative',\n",
       " 'conservative',\n",
       " 'conservative',\n",
       " 'conservative',\n",
       " 'conservative',\n",
       " 'conservative',\n",
       " 'conservative',\n",
       " 'liberal',\n",
       " 'liberal',\n",
       " 'liberal',\n",
       " 'anarchist',\n",
       " 'anarchist',\n",
       " 'anarchist',\n",
       " 'anarchist',\n",
       " 'anarchist',\n",
       " 'anarchist',\n",
       " 'socialist',\n",
       " 'socialist',\n",
       " 'socialist',\n",
       " 'socialist',\n",
       " 'socialist']"
      ]
     },
     "execution_count": 59,
     "metadata": {},
     "output_type": "execute_result"
    }
   ],
   "source": [
    "new_names = []\n",
    "for ideology in edition_list['ideology']:\n",
    "    new_names.append(ideology)\n",
    "new_names"
   ]
  },
  {
   "cell_type": "code",
   "execution_count": null,
   "id": "4cf508e4",
   "metadata": {},
   "outputs": [],
   "source": []
  }
 ],
 "metadata": {
  "kernelspec": {
   "display_name": "Python 3 (ipykernel)",
   "language": "python",
   "name": "python3"
  },
  "language_info": {
   "codemirror_mode": {
    "name": "ipython",
    "version": 3
   },
   "file_extension": ".py",
   "mimetype": "text/x-python",
   "name": "python",
   "nbconvert_exporter": "python",
   "pygments_lexer": "ipython3",
   "version": "3.9.12"
  }
 },
 "nbformat": 4,
 "nbformat_minor": 5
}
