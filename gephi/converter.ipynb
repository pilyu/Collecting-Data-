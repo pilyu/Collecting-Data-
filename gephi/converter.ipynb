{
 "cells": [
  {
   "cell_type": "code",
   "execution_count": 2,
   "id": "df4b0dd1",
   "metadata": {},
   "outputs": [],
   "source": [
    "from glob import glob\n",
    "import pandas as pd\n",
    "import os"
   ]
  },
  {
   "cell_type": "code",
   "execution_count": 4,
   "id": "96699f3d",
   "metadata": {},
   "outputs": [],
   "source": [
    "for file in glob(\"../stylo/newspaper/stylo_analysis/*.csv\"):\n",
    "    with open(file, \"r\", encoding = \"utf8\") as infile:\n",
    "        edges = pd.read_csv(infile)\n",
    "    edges[\"Source\"] = [x.split(\"_\")[1] for x in edges[\"Source\"]]\n",
    "    edges[\"Target\"] = [x.split(\"_\")[1] for x in edges[\"Target\"]]\n",
    "    edges.to_csv(\"./edges.csv\", index = False)\n",
    "    \n",
    "with open(\"../editions.csv\", \"r\", encoding = \"utf8\") as editions_file:\n",
    "    editions = pd.read_csv(editions_file)    \n",
    "with open(\"../newspapers.csv\", \"r\", encoding = \"utf8\") as newspapers_file:\n",
    "    newspapers = pd.read_csv(newspapers_file)    \n",
    "editions = editions.merge(newspapers, left_on = \"newspaper\", right_on = \"newspaper\")\n",
    "\n",
    "def converter(feature):\n",
    "    feature_df = editions\n",
    "    feature_df[\"Label\"] = feature_df[feature].astype(str) + \"_\" + feature_df[\"id\"].astype(str)\n",
    "    if not os.path.exists(feature):\n",
    "        os.makedirs(feature)\n",
    "    feature_df.to_csv(\"./\" + feature + \"/nodes.csv\", index = False)\n",
    "    \n",
    "for feature in [\"newspaper\", \"ideology\", \"hq\", \"audience\", \"region\", \"format\", \"foundedin\"]:\n",
    "    converter(feature)"
   ]
  },
  {
   "cell_type": "code",
   "execution_count": null,
   "id": "44d92d2c",
   "metadata": {},
   "outputs": [],
   "source": []
  }
 ],
 "metadata": {
  "kernelspec": {
   "display_name": "Python 3 (ipykernel)",
   "language": "python",
   "name": "python3"
  },
  "language_info": {
   "codemirror_mode": {
    "name": "ipython",
    "version": 3
   },
   "file_extension": ".py",
   "mimetype": "text/x-python",
   "name": "python",
   "nbconvert_exporter": "python",
   "pygments_lexer": "ipython3",
   "version": "3.9.12"
  }
 },
 "nbformat": 4,
 "nbformat_minor": 5
}
