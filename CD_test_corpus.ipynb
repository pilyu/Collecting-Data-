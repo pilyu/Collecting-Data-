{
 "cells": [
  {
   "cell_type": "code",
   "execution_count": 10,
   "id": "4960e342-5220-4707-9ab8-41052ff8c9aa",
   "metadata": {},
   "outputs": [
    {
     "name": "stdout",
     "output_type": "stream",
     "text": [
      "Requirement already satisfied: spacy in c:\\users\\pilyu\\appdata\\local\\programs\\python\\python39\\lib\\site-packages (3.4.4)\n",
      "Requirement already satisfied: nltk in c:\\users\\pilyu\\appdata\\local\\programs\\python\\python39\\lib\\site-packages (3.8.1)\n",
      "Requirement already satisfied: preshed<3.1.0,>=3.0.2 in c:\\users\\pilyu\\appdata\\local\\programs\\python\\python39\\lib\\site-packages (from spacy) (3.0.8)\n",
      "Requirement already satisfied: jinja2 in c:\\users\\pilyu\\appdata\\local\\programs\\python\\python39\\lib\\site-packages (from spacy) (3.1.2)\n",
      "Requirement already satisfied: requests<3.0.0,>=2.13.0 in c:\\users\\pilyu\\appdata\\local\\programs\\python\\python39\\lib\\site-packages (from spacy) (2.28.1)\n",
      "Requirement already satisfied: setuptools in c:\\users\\pilyu\\appdata\\local\\programs\\python\\python39\\lib\\site-packages (from spacy) (49.2.1)\n",
      "Requirement already satisfied: pathy>=0.3.5 in c:\\users\\pilyu\\appdata\\local\\programs\\python\\python39\\lib\\site-packages (from spacy) (0.10.1)\n",
      "Requirement already satisfied: langcodes<4.0.0,>=3.2.0 in c:\\users\\pilyu\\appdata\\local\\programs\\python\\python39\\lib\\site-packages (from spacy) (3.3.0)\n",
      "Requirement already satisfied: murmurhash<1.1.0,>=0.28.0 in c:\\users\\pilyu\\appdata\\local\\programs\\python\\python39\\lib\\site-packages (from spacy) (1.0.9)\n",
      "Requirement already satisfied: cymem<2.1.0,>=2.0.2 in c:\\users\\pilyu\\appdata\\local\\programs\\python\\python39\\lib\\site-packages (from spacy) (2.0.7)\n",
      "Requirement already satisfied: thinc<8.2.0,>=8.1.0 in c:\\users\\pilyu\\appdata\\local\\programs\\python\\python39\\lib\\site-packages (from spacy) (8.1.7)\n",
      "Requirement already satisfied: typer<0.8.0,>=0.3.0 in c:\\users\\pilyu\\appdata\\local\\programs\\python\\python39\\lib\\site-packages (from spacy) (0.7.0)\n",
      "Requirement already satisfied: packaging>=20.0 in c:\\users\\pilyu\\appdata\\local\\programs\\python\\python39\\lib\\site-packages (from spacy) (21.3)\n",
      "Requirement already satisfied: srsly<3.0.0,>=2.4.3 in c:\\users\\pilyu\\appdata\\local\\programs\\python\\python39\\lib\\site-packages (from spacy) (2.4.5)\n",
      "Requirement already satisfied: pydantic!=1.8,!=1.8.1,<1.11.0,>=1.7.4 in c:\\users\\pilyu\\appdata\\local\\programs\\python\\python39\\lib\\site-packages (from spacy) (1.10.4)\n",
      "Requirement already satisfied: numpy>=1.15.0 in c:\\users\\pilyu\\appdata\\local\\programs\\python\\python39\\lib\\site-packages (from spacy) (1.20.0)\n",
      "Requirement already satisfied: catalogue<2.1.0,>=2.0.6 in c:\\users\\pilyu\\appdata\\local\\programs\\python\\python39\\lib\\site-packages (from spacy) (2.0.8)\n",
      "Requirement already satisfied: spacy-loggers<2.0.0,>=1.0.0 in c:\\users\\pilyu\\appdata\\local\\programs\\python\\python39\\lib\\site-packages (from spacy) (1.0.4)\n",
      "Requirement already satisfied: tqdm<5.0.0,>=4.38.0 in c:\\users\\pilyu\\appdata\\local\\programs\\python\\python39\\lib\\site-packages (from spacy) (4.64.1)\n",
      "Requirement already satisfied: smart-open<7.0.0,>=5.2.1 in c:\\users\\pilyu\\appdata\\local\\programs\\python\\python39\\lib\\site-packages (from spacy) (6.3.0)\n",
      "Requirement already satisfied: spacy-legacy<3.1.0,>=3.0.10 in c:\\users\\pilyu\\appdata\\local\\programs\\python\\python39\\lib\\site-packages (from spacy) (3.0.11)\n",
      "Requirement already satisfied: wasabi<1.1.0,>=0.9.1 in c:\\users\\pilyu\\appdata\\local\\programs\\python\\python39\\lib\\site-packages (from spacy) (0.10.1)\n",
      "Requirement already satisfied: joblib in c:\\users\\pilyu\\appdata\\local\\programs\\python\\python39\\lib\\site-packages (from nltk) (1.2.0)\n",
      "Requirement already satisfied: click in c:\\users\\pilyu\\appdata\\local\\programs\\python\\python39\\lib\\site-packages (from nltk) (8.1.3)\n",
      "Requirement already satisfied: regex>=2021.8.3 in c:\\users\\pilyu\\appdata\\local\\programs\\python\\python39\\lib\\site-packages (from nltk) (2022.10.31)\n",
      "Requirement already satisfied: pyparsing!=3.0.5,>=2.0.2 in c:\\users\\pilyu\\appdata\\local\\programs\\python\\python39\\lib\\site-packages (from packaging>=20.0->spacy) (2.4.7)\n",
      "Requirement already satisfied: typing-extensions>=4.2.0 in c:\\users\\pilyu\\appdata\\local\\programs\\python\\python39\\lib\\site-packages (from pydantic!=1.8,!=1.8.1,<1.11.0,>=1.7.4->spacy) (4.4.0)\n",
      "Requirement already satisfied: idna<4,>=2.5 in c:\\users\\pilyu\\appdata\\local\\programs\\python\\python39\\lib\\site-packages (from requests<3.0.0,>=2.13.0->spacy) (3.4)\n",
      "Requirement already satisfied: certifi>=2017.4.17 in c:\\users\\pilyu\\appdata\\local\\programs\\python\\python39\\lib\\site-packages (from requests<3.0.0,>=2.13.0->spacy) (2022.9.24)\n",
      "Requirement already satisfied: charset-normalizer<3,>=2 in c:\\users\\pilyu\\appdata\\local\\programs\\python\\python39\\lib\\site-packages (from requests<3.0.0,>=2.13.0->spacy) (2.1.1)\n",
      "Requirement already satisfied: urllib3<1.27,>=1.21.1 in c:\\users\\pilyu\\appdata\\local\\programs\\python\\python39\\lib\\site-packages (from requests<3.0.0,>=2.13.0->spacy) (1.26.13)\n",
      "Requirement already satisfied: confection<1.0.0,>=0.0.1 in c:\\users\\pilyu\\appdata\\local\\programs\\python\\python39\\lib\\site-packages (from thinc<8.2.0,>=8.1.0->spacy) (0.0.4)\n",
      "Requirement already satisfied: blis<0.8.0,>=0.7.8 in c:\\users\\pilyu\\appdata\\local\\programs\\python\\python39\\lib\\site-packages (from thinc<8.2.0,>=8.1.0->spacy) (0.7.9)\n",
      "Requirement already satisfied: colorama in c:\\users\\pilyu\\appdata\\roaming\\python\\python39\\site-packages (from tqdm<5.0.0,>=4.38.0->spacy) (0.4.6)\n",
      "Requirement already satisfied: MarkupSafe>=2.0 in c:\\users\\pilyu\\appdata\\local\\programs\\python\\python39\\lib\\site-packages (from jinja2->spacy) (2.1.1)\n",
      "Note: you may need to restart the kernel to use updated packages.\n"
     ]
    },
    {
     "name": "stderr",
     "output_type": "stream",
     "text": [
      "\n",
      "[notice] A new release of pip available: 22.2.2 -> 22.3.1\n",
      "[notice] To update, run: python.exe -m pip install --upgrade pip\n"
     ]
    },
    {
     "name": "stdout",
     "output_type": "stream",
     "text": [
      "Collecting es-core-news-md==3.4.0\n",
      "  Downloading https://github.com/explosion/spacy-models/releases/download/es_core_news_md-3.4.0/es_core_news_md-3.4.0-py3-none-any.whl (42.3 MB)\n",
      "     --------------------------------------- 42.3/42.3 MB 13.9 MB/s eta 0:00:00\n",
      "Requirement already satisfied: spacy<3.5.0,>=3.4.0 in c:\\users\\pilyu\\appdata\\local\\programs\\python\\python39\\lib\\site-packages (from es-core-news-md==3.4.0) (3.4.4)\n",
      "Requirement already satisfied: thinc<8.2.0,>=8.1.0 in c:\\users\\pilyu\\appdata\\local\\programs\\python\\python39\\lib\\site-packages (from spacy<3.5.0,>=3.4.0->es-core-news-md==3.4.0) (8.1.7)\n",
      "Requirement already satisfied: murmurhash<1.1.0,>=0.28.0 in c:\\users\\pilyu\\appdata\\local\\programs\\python\\python39\\lib\\site-packages (from spacy<3.5.0,>=3.4.0->es-core-news-md==3.4.0) (1.0.9)\n",
      "Requirement already satisfied: numpy>=1.15.0 in c:\\users\\pilyu\\appdata\\local\\programs\\python\\python39\\lib\\site-packages (from spacy<3.5.0,>=3.4.0->es-core-news-md==3.4.0) (1.20.0)\n",
      "Requirement already satisfied: spacy-loggers<2.0.0,>=1.0.0 in c:\\users\\pilyu\\appdata\\local\\programs\\python\\python39\\lib\\site-packages (from spacy<3.5.0,>=3.4.0->es-core-news-md==3.4.0) (1.0.4)\n",
      "Requirement already satisfied: smart-open<7.0.0,>=5.2.1 in c:\\users\\pilyu\\appdata\\local\\programs\\python\\python39\\lib\\site-packages (from spacy<3.5.0,>=3.4.0->es-core-news-md==3.4.0) (6.3.0)\n",
      "Requirement already satisfied: requests<3.0.0,>=2.13.0 in c:\\users\\pilyu\\appdata\\local\\programs\\python\\python39\\lib\\site-packages (from spacy<3.5.0,>=3.4.0->es-core-news-md==3.4.0) (2.28.1)\n",
      "Requirement already satisfied: spacy-legacy<3.1.0,>=3.0.10 in c:\\users\\pilyu\\appdata\\local\\programs\\python\\python39\\lib\\site-packages (from spacy<3.5.0,>=3.4.0->es-core-news-md==3.4.0) (3.0.11)\n",
      "Requirement already satisfied: pathy>=0.3.5 in c:\\users\\pilyu\\appdata\\local\\programs\\python\\python39\\lib\\site-packages (from spacy<3.5.0,>=3.4.0->es-core-news-md==3.4.0) (0.10.1)\n",
      "Requirement already satisfied: tqdm<5.0.0,>=4.38.0 in c:\\users\\pilyu\\appdata\\local\\programs\\python\\python39\\lib\\site-packages (from spacy<3.5.0,>=3.4.0->es-core-news-md==3.4.0) (4.64.1)\n",
      "Requirement already satisfied: pydantic!=1.8,!=1.8.1,<1.11.0,>=1.7.4 in c:\\users\\pilyu\\appdata\\local\\programs\\python\\python39\\lib\\site-packages (from spacy<3.5.0,>=3.4.0->es-core-news-md==3.4.0) (1.10.4)\n",
      "Requirement already satisfied: catalogue<2.1.0,>=2.0.6 in c:\\users\\pilyu\\appdata\\local\\programs\\python\\python39\\lib\\site-packages (from spacy<3.5.0,>=3.4.0->es-core-news-md==3.4.0) (2.0.8)\n",
      "Requirement already satisfied: langcodes<4.0.0,>=3.2.0 in c:\\users\\pilyu\\appdata\\local\\programs\\python\\python39\\lib\\site-packages (from spacy<3.5.0,>=3.4.0->es-core-news-md==3.4.0) (3.3.0)\n",
      "Requirement already satisfied: cymem<2.1.0,>=2.0.2 in c:\\users\\pilyu\\appdata\\local\\programs\\python\\python39\\lib\\site-packages (from spacy<3.5.0,>=3.4.0->es-core-news-md==3.4.0) (2.0.7)\n",
      "Requirement already satisfied: wasabi<1.1.0,>=0.9.1 in c:\\users\\pilyu\\appdata\\local\\programs\\python\\python39\\lib\\site-packages (from spacy<3.5.0,>=3.4.0->es-core-news-md==3.4.0) (0.10.1)\n",
      "Requirement already satisfied: packaging>=20.0 in c:\\users\\pilyu\\appdata\\local\\programs\\python\\python39\\lib\\site-packages (from spacy<3.5.0,>=3.4.0->es-core-news-md==3.4.0) (21.3)\n",
      "Requirement already satisfied: jinja2 in c:\\users\\pilyu\\appdata\\local\\programs\\python\\python39\\lib\\site-packages (from spacy<3.5.0,>=3.4.0->es-core-news-md==3.4.0) (3.1.2)\n",
      "Requirement already satisfied: setuptools in c:\\users\\pilyu\\appdata\\local\\programs\\python\\python39\\lib\\site-packages (from spacy<3.5.0,>=3.4.0->es-core-news-md==3.4.0) (49.2.1)\n",
      "Requirement already satisfied: srsly<3.0.0,>=2.4.3 in c:\\users\\pilyu\\appdata\\local\\programs\\python\\python39\\lib\\site-packages (from spacy<3.5.0,>=3.4.0->es-core-news-md==3.4.0) (2.4.5)\n",
      "Requirement already satisfied: preshed<3.1.0,>=3.0.2 in c:\\users\\pilyu\\appdata\\local\\programs\\python\\python39\\lib\\site-packages (from spacy<3.5.0,>=3.4.0->es-core-news-md==3.4.0) (3.0.8)\n",
      "Requirement already satisfied: typer<0.8.0,>=0.3.0 in c:\\users\\pilyu\\appdata\\local\\programs\\python\\python39\\lib\\site-packages (from spacy<3.5.0,>=3.4.0->es-core-news-md==3.4.0) (0.7.0)\n",
      "Requirement already satisfied: pyparsing!=3.0.5,>=2.0.2 in c:\\users\\pilyu\\appdata\\local\\programs\\python\\python39\\lib\\site-packages (from packaging>=20.0->spacy<3.5.0,>=3.4.0->es-core-news-md==3.4.0) (2.4.7)\n",
      "Requirement already satisfied: typing-extensions>=4.2.0 in c:\\users\\pilyu\\appdata\\local\\programs\\python\\python39\\lib\\site-packages (from pydantic!=1.8,!=1.8.1,<1.11.0,>=1.7.4->spacy<3.5.0,>=3.4.0->es-core-news-md==3.4.0) (4.4.0)\n",
      "Requirement already satisfied: urllib3<1.27,>=1.21.1 in c:\\users\\pilyu\\appdata\\local\\programs\\python\\python39\\lib\\site-packages (from requests<3.0.0,>=2.13.0->spacy<3.5.0,>=3.4.0->es-core-news-md==3.4.0) (1.26.13)\n",
      "Requirement already satisfied: charset-normalizer<3,>=2 in c:\\users\\pilyu\\appdata\\local\\programs\\python\\python39\\lib\\site-packages (from requests<3.0.0,>=2.13.0->spacy<3.5.0,>=3.4.0->es-core-news-md==3.4.0) (2.1.1)\n",
      "Requirement already satisfied: certifi>=2017.4.17 in c:\\users\\pilyu\\appdata\\local\\programs\\python\\python39\\lib\\site-packages (from requests<3.0.0,>=2.13.0->spacy<3.5.0,>=3.4.0->es-core-news-md==3.4.0) (2022.9.24)\n",
      "Requirement already satisfied: idna<4,>=2.5 in c:\\users\\pilyu\\appdata\\local\\programs\\python\\python39\\lib\\site-packages (from requests<3.0.0,>=2.13.0->spacy<3.5.0,>=3.4.0->es-core-news-md==3.4.0) (3.4)\n",
      "Requirement already satisfied: confection<1.0.0,>=0.0.1 in c:\\users\\pilyu\\appdata\\local\\programs\\python\\python39\\lib\\site-packages (from thinc<8.2.0,>=8.1.0->spacy<3.5.0,>=3.4.0->es-core-news-md==3.4.0) (0.0.4)\n",
      "Requirement already satisfied: blis<0.8.0,>=0.7.8 in c:\\users\\pilyu\\appdata\\local\\programs\\python\\python39\\lib\\site-packages (from thinc<8.2.0,>=8.1.0->spacy<3.5.0,>=3.4.0->es-core-news-md==3.4.0) (0.7.9)\n",
      "Requirement already satisfied: colorama in c:\\users\\pilyu\\appdata\\roaming\\python\\python39\\site-packages (from tqdm<5.0.0,>=4.38.0->spacy<3.5.0,>=3.4.0->es-core-news-md==3.4.0) (0.4.6)\n",
      "Requirement already satisfied: click<9.0.0,>=7.1.1 in c:\\users\\pilyu\\appdata\\local\\programs\\python\\python39\\lib\\site-packages (from typer<0.8.0,>=0.3.0->spacy<3.5.0,>=3.4.0->es-core-news-md==3.4.0) (8.1.3)\n",
      "Requirement already satisfied: MarkupSafe>=2.0 in c:\\users\\pilyu\\appdata\\local\\programs\\python\\python39\\lib\\site-packages (from jinja2->spacy<3.5.0,>=3.4.0->es-core-news-md==3.4.0) (2.1.1)\n",
      "✔ Download and installation successful\n",
      "You can now load the package via spacy.load('es_core_news_md')\n"
     ]
    },
    {
     "name": "stderr",
     "output_type": "stream",
     "text": [
      "\n",
      "[notice] A new release of pip available: 22.2.2 -> 22.3.1\n",
      "[notice] To update, run: python.exe -m pip install --upgrade pip\n",
      "[nltk_data] Downloading package punkt to\n",
      "[nltk_data]     C:\\Users\\pilyu\\AppData\\Roaming\\nltk_data...\n",
      "[nltk_data]   Package punkt is already up-to-date!\n",
      "[nltk_data] Downloading package cess_esp to\n",
      "[nltk_data]     C:\\Users\\pilyu\\AppData\\Roaming\\nltk_data...\n",
      "[nltk_data]   Package cess_esp is already up-to-date!\n"
     ]
    },
    {
     "data": {
      "text/plain": [
       "True"
      ]
     },
     "execution_count": 10,
     "metadata": {},
     "output_type": "execute_result"
    }
   ],
   "source": [
    "%pip install spacy nltk\n",
    "!python -m spacy download es_core_news_md\n",
    "import nltk\n",
    "import spacy\n",
    "from glob import glob\n",
    "spacy_es = spacy.load(\"es_core_news_md\") #Spanish corpus available in Spacy\n",
    "spacy_es.max_length = 4000000\n",
    "nltk.download(\"punkt\")\n",
    "nltk.download(\"cess_esp\") #Spanish corpus available in NLTK"
   ]
  },
  {
   "cell_type": "code",
   "execution_count": 11,
   "id": "2d12b1b7-587a-402d-9be1-9bb7bc3ebeed",
   "metadata": {},
   "outputs": [],
   "source": [
    "#Read the file\n",
    "def read_file(filename):\n",
    "    with open(filename, encoding='utf8') as infile:\n",
    "        contents = infile.read()\n",
    "    return contents"
   ]
  },
  {
   "cell_type": "code",
   "execution_count": 26,
   "id": "73bf4dc9-464e-499a-9b31-c21c711e9789",
   "metadata": {},
   "outputs": [],
   "source": [
    "#Some words are split into individual letters, and this function tries to recompose those words, removing the spaces.\n",
    "def retokenize(tokenized_text):\n",
    "    tokenized = []\n",
    "    is_broken_word = False\n",
    "    temp_word = \"\"\n",
    "    for token in tokenized_text:\n",
    "        token_lower = token.lower()\n",
    "        if len(token) == 1:\n",
    "            if not is_broken_word:\n",
    "                is_broken_word = True\n",
    "                temp_word = token_lower\n",
    "            else:\n",
    "                temp_word += token_lower\n",
    "        else:\n",
    "            if is_broken_word:\n",
    "                tokenized.append(temp_word)\n",
    "                temp_word = \"\"\n",
    "                is_broken_word = False\n",
    "            tokenized.append(token_lower)\n",
    "    return tokenized"
   ]
  },
  {
   "cell_type": "code",
   "execution_count": 27,
   "id": "79c350da-aed9-4b37-9072-73d9507b4579",
   "metadata": {},
   "outputs": [],
   "source": [
    "#Tokenize all the texts\n",
    "tokens = set()\n",
    "for filename in glob('texts/*.txt'):\n",
    "    text = read_file(filename)\n",
    "    tokenized_text = nltk.tokenize.word_tokenize(text)\n",
    "    tokenized_text = set(retokenize(tokenized_text))\n",
    "    tokens = tokens | tokenized_text"
   ]
  },
  {
   "cell_type": "code",
   "execution_count": 28,
   "id": "3b8a1cc2-22a8-4252-a738-0b64a6b48063",
   "metadata": {},
   "outputs": [],
   "source": [
    "#Words recognized by each corpus\n",
    "corpora = {}\n",
    "words_corpus = {word.lower() for word in nltk.corpus.cess_esp.words()}\n",
    "corpora[\"cess_esp\"] = {word for word in tokens if word in words_corpus}\n",
    "doc = spacy_es(\" \".join(tokens))\n",
    "corpora[\"es_core_news_md\"] = {token.text for token in doc if token.has_vector}"
   ]
  },
  {
   "cell_type": "code",
   "execution_count": 29,
   "id": "2fd0db95-59d5-4233-91c3-4ab33db460fc",
   "metadata": {},
   "outputs": [
    {
     "name": "stdout",
     "output_type": "stream",
     "text": [
      "cess_esp 4.1495567091325665%\n",
      "es_core_news_md 18.228607480049146%\n"
     ]
    }
   ],
   "source": [
    "#Calculate the percentage of words recognized \n",
    "for corpus, tokens_recognized in corpora.items():\n",
    "    percent_score = len(tokens_recognized)*100/ len(tokens)\n",
    "    print(f\"{corpus} {percent_score}%\")"
   ]
  },
  {
   "cell_type": "code",
   "execution_count": null,
   "id": "192768bd",
   "metadata": {},
   "outputs": [],
   "source": []
  },
  {
   "cell_type": "code",
   "execution_count": null,
   "id": "bae34183",
   "metadata": {},
   "outputs": [],
   "source": []
  },
  {
   "cell_type": "code",
   "execution_count": null,
   "id": "3672f6b9",
   "metadata": {},
   "outputs": [],
   "source": []
  }
 ],
 "metadata": {
  "kernelspec": {
   "display_name": "Python 3",
   "language": "python",
   "name": "python3"
  },
  "language_info": {
   "codemirror_mode": {
    "name": "ipython",
    "version": 3
   },
   "file_extension": ".py",
   "mimetype": "text/x-python",
   "name": "python",
   "nbconvert_exporter": "python",
   "pygments_lexer": "ipython3",
   "version": "3.9.1"
  },
  "vscode": {
   "interpreter": {
    "hash": "01496f636bcf21f48997282996066e91e3d79b97d12ad156353ed1a5160272d3"
   }
  }
 },
 "nbformat": 4,
 "nbformat_minor": 5
}
