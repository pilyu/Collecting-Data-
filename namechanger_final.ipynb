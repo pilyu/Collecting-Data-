{
 "cells": [
  {
   "cell_type": "code",
   "execution_count": 363,
   "id": "45eb5396",
   "metadata": {},
   "outputs": [],
   "source": [
    "from glob import glob\n",
    "from os.path import splitext\n",
    "from os.path import basename\n",
    "import os\n",
    "import pandas as pd"
   ]
  },
  {
   "cell_type": "code",
   "execution_count": null,
   "id": "d984bb69",
   "metadata": {},
   "outputs": [],
   "source": [
    "for edition in glob('./clean_texts/*.txt'):\n",
    "    print(edition)"
   ]
  },
  {
   "cell_type": "code",
   "execution_count": null,
   "id": "09fe099b",
   "metadata": {},
   "outputs": [],
   "source": [
    "editions_list = pd.read_csv('./editions list.csv', encoding='utf-8', index_col=0)\n",
    "editions_list"
   ]
  },
  {
   "cell_type": "code",
   "execution_count": null,
   "id": "b82ebe52",
   "metadata": {},
   "outputs": [],
   "source": [
    "def create_subcorpus(feature):\n",
    "    if not os.path.exists(\"./stylo/\"):\n",
    "        os.makedirs(\"./stylo/\")\n",
    "    subcorpus = str(\"./stylo/\" + feature + \"/corpus\")\n",
    "    if not os.path.exists(subcorpus):\n",
    "        os.makedirs(subcorpus)\n",
    "    for edition in editions_list:\n",
    "        edition_id = int(os.path.splitext(basename(edition))[0])\n",
    "        feature_lookup = editions_metadata.iloc[edition_id-1][feature]\n",
    "        edition_id = str(edition_id)\n",
    "        with open(edition, \"r\") as oldfile, open(subcorpus + \"/\" + feature_lookup + \"_\" + edition_id + \".txt\", \"w\") as newfile:\n",
    "            for line in oldfile:\n",
    "                newfile.write(line)\n",
    "        \n",
    "create_subcorpus(\"ideology\")\n",
    "create_subcorpus(\"title\")\n",
    "create_subcorpus(\"headquarter\")\n",
    "create_subcorpus(\"audience\")\n",
    "create_subcorpus(\"region\")\n",
    "create_subcorpus(\"format\")"
   ]
  },
  {
   "cell_type": "markdown",
   "id": "92e5743e",
   "metadata": {},
   "source": [
    "`os.rename` funtion also works"
   ]
  },
  {
   "cell_type": "code",
   "execution_count": 393,
   "id": "d5117d8f",
   "metadata": {},
   "outputs": [],
   "source": [
    "for filepath in glob('./clean_texts/*.txt'):\n",
    "    id = int(splitext(basename(filepath))[0])\n",
    "    os.rename(filepath, edition_list.iloc[id-1]['ideology']+'_'+basename(filepath))"
   ]
  },
  {
   "cell_type": "code",
   "execution_count": null,
   "id": "8d556011",
   "metadata": {},
   "outputs": [],
   "source": [
    "for filepath in glob('./clean_texts/*.txt'):\n",
    "    id = int(splitext(basename(filepath))[0])\n",
    "    os.rename(filepath, edition_list.iloc[id-1]['title']+'_'+basename(filepath))"
   ]
  }
 ],
 "metadata": {
  "kernelspec": {
   "display_name": "Python 3 (ipykernel)",
   "language": "python",
   "name": "python3"
  },
  "language_info": {
   "codemirror_mode": {
    "name": "ipython",
    "version": 3
   },
   "file_extension": ".py",
   "mimetype": "text/x-python",
   "name": "python",
   "nbconvert_exporter": "python",
   "pygments_lexer": "ipython3",
   "version": "3.9.12"
  }
 },
 "nbformat": 4,
 "nbformat_minor": 5
}
